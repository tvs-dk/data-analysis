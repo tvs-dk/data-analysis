{
  "nbformat": 4,
  "nbformat_minor": 0,
  "metadata": {
    "colab": {
      "provenance": [],
      "authorship_tag": "ABX9TyNS7DZQOwvtFmgTwO69uQWw",
      "include_colab_link": true
    },
    "kernelspec": {
      "name": "python3",
      "display_name": "Python 3"
    },
    "language_info": {
      "name": "python"
    }
  },
  "cells": [
    {
      "cell_type": "markdown",
      "metadata": {
        "id": "view-in-github",
        "colab_type": "text"
      },
      "source": [
        "<a href=\"https://colab.research.google.com/github/tvs-dk/data-analysis/blob/main/Scatterplots_from_csvs_texture.ipynb\" target=\"_parent\"><img src=\"https://colab.research.google.com/assets/colab-badge.svg\" alt=\"Open In Colab\"/></a>"
      ]
    },
    {
      "cell_type": "markdown",
      "source": [
        "This is a script that imports all csv files in the current directory and plots it them in a scatterplot."
      ],
      "metadata": {
        "id": "Uj1BvbER8Q9-"
      }
    },
    {
      "cell_type": "code",
      "execution_count": null,
      "metadata": {
        "id": "hSmuW5JX7YUY"
      },
      "outputs": [],
      "source": [
        "# This block can plot all files in one plot \n",
        "import pandas as pd\n",
        "import matplotlib.pyplot as plt\n",
        "import glob\n",
        "import os\n",
        "\n",
        "# Find all csv files in current directory\n",
        "csv_files = glob.glob(\"*.csv\")\n",
        "\n",
        "# Create empty list to hold all dataframes and dataset names\n",
        "df_list = []\n",
        "name_list = []\n",
        "\n",
        "\n",
        "\n",
        "# Read each csv file into a dataframe and append to list\n",
        "for csv_file in csv_files:\n",
        "    df = pd.read_csv(csv_file, skiprows=2)\n",
        "    df_list.append(df)\n",
        "    name_list.append(os.path.splitext(csv_file)[0])\n",
        "\n",
        "# Specify the desired order of datasets (first dataset is \"0\")\n",
        "desired_order = [2,0,3,1]\n",
        "\n",
        "# Rearrange the dataframes and names according to the desired order\n",
        "df_list = [df_list[i] for i in desired_order]\n",
        "name_list = [name_list[i] for i in desired_order]\n",
        "\n",
        "# Create a list of colors for each dataframe\n",
        "colors = ['black','grey','blue', 'yellow', 'red','pink', 'green', 'orange', 'purple', 'brown','darkgrey','darkgreen']\n",
        "\n",
        "# Create scatterplot for each dataframe using a different color and name\n",
        "for i, df in enumerate(df_list):\n",
        "    plt.scatter(df['sec'], df['g'], color=colors[i], label=name_list[i])\n",
        "\n",
        "# Add axis labels and title\n",
        "plt.xlabel('time(sec)')\n",
        "plt.ylabel('Force(g)')\n",
        "#plt.title('Scatterplot of X vs. Y')\n",
        "\n",
        "dpi = 600\n",
        "\n",
        "# Add legend\n",
        "plt.legend()\n",
        "\n",
        "# Adjust x-axis limist\n",
        "plt.xlim(0,20)\n",
        "\n",
        "# Show the plot\n",
        "plt.show()\n",
        "\n",
        "# Show the order of how the dataset are read\n",
        "print(\"The order of the datasets is: \", name_list)\n",
        "print(\"The 'order ID' of each dataset is: \", desired_order)\n",
        "\n",
        "\n",
        "\n"
      ]
    },
    {
      "cell_type": "code",
      "source": [],
      "metadata": {
        "colab": {
          "base_uri": "https://localhost:8080/"
        },
        "id": "dKRHl--r726Q",
        "outputId": "9e3e277f-a802-4437-b4e5-e3bcc163328c"
      },
      "execution_count": null,
      "outputs": [
        {
          "output_type": "stream",
          "name": "stdout",
          "text": [
            "\u001b[0m\u001b[01;34msample_data\u001b[0m/\n"
          ]
        }
      ]
    }
  ]
}