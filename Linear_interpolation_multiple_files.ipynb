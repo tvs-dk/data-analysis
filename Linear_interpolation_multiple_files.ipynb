{
  "nbformat": 4,
  "nbformat_minor": 0,
  "metadata": {
    "colab": {
      "provenance": [],
      "collapsed_sections": [
        "xU-ebsUxrbsC",
        "z1oN7A6XH46i",
        "IohPARKMql-q",
        "9HCUb2wQMj-2",
        "Tl7LNAoLqQBl",
        "DNhhjJocDbJU",
        "fZAdPEGfD4kx",
        "i6nn7zdgG5mB"
      ],
      "history_visible": true,
      "authorship_tag": "ABX9TyOo4FIQ8vfDbdbcSL69FK0J",
      "include_colab_link": true
    },
    "kernelspec": {
      "name": "python3",
      "display_name": "Python 3"
    },
    "language_info": {
      "name": "python"
    }
  },
  "cells": [
    {
      "cell_type": "markdown",
      "metadata": {
        "id": "view-in-github",
        "colab_type": "text"
      },
      "source": [
        "<a href=\"https://colab.research.google.com/github/tvs-dk/data-analysis/blob/main/Linear_interpolation_multiple_files.ipynb\" target=\"_parent\"><img src=\"https://colab.research.google.com/assets/colab-badge.svg\" alt=\"Open In Colab\"/></a>"
      ]
    },
    {
      "cell_type": "markdown",
      "source": [
        "# Run this cell to upload the data"
      ],
      "metadata": {
        "id": "xU-ebsUxrbsC"
      }
    },
    {
      "cell_type": "code",
      "source": [
        "# Upload data\n",
        "from google.colab import files\n",
        "uploaded = files.upload()"
      ],
      "metadata": {
        "id": "8fIknV0X0DW0",
        "colab": {
          "base_uri": "https://localhost:8080/",
          "height": 177
        },
        "outputId": "5374dbc1-883c-4ee0-e974-fe3b1d6e2183"
      },
      "execution_count": null,
      "outputs": [
        {
          "output_type": "display_data",
          "data": {
            "text/plain": [
              "<IPython.core.display.HTML object>"
            ],
            "text/html": [
              "\n",
              "     <input type=\"file\" id=\"files-a503ec01-0d73-4337-95a8-d9ca14afcd12\" name=\"files[]\" multiple disabled\n",
              "        style=\"border:none\" />\n",
              "     <output id=\"result-a503ec01-0d73-4337-95a8-d9ca14afcd12\">\n",
              "      Upload widget is only available when the cell has been executed in the\n",
              "      current browser session. Please rerun this cell to enable.\n",
              "      </output>\n",
              "      <script>// Copyright 2017 Google LLC\n",
              "//\n",
              "// Licensed under the Apache License, Version 2.0 (the \"License\");\n",
              "// you may not use this file except in compliance with the License.\n",
              "// You may obtain a copy of the License at\n",
              "//\n",
              "//      http://www.apache.org/licenses/LICENSE-2.0\n",
              "//\n",
              "// Unless required by applicable law or agreed to in writing, software\n",
              "// distributed under the License is distributed on an \"AS IS\" BASIS,\n",
              "// WITHOUT WARRANTIES OR CONDITIONS OF ANY KIND, either express or implied.\n",
              "// See the License for the specific language governing permissions and\n",
              "// limitations under the License.\n",
              "\n",
              "/**\n",
              " * @fileoverview Helpers for google.colab Python module.\n",
              " */\n",
              "(function(scope) {\n",
              "function span(text, styleAttributes = {}) {\n",
              "  const element = document.createElement('span');\n",
              "  element.textContent = text;\n",
              "  for (const key of Object.keys(styleAttributes)) {\n",
              "    element.style[key] = styleAttributes[key];\n",
              "  }\n",
              "  return element;\n",
              "}\n",
              "\n",
              "// Max number of bytes which will be uploaded at a time.\n",
              "const MAX_PAYLOAD_SIZE = 100 * 1024;\n",
              "\n",
              "function _uploadFiles(inputId, outputId) {\n",
              "  const steps = uploadFilesStep(inputId, outputId);\n",
              "  const outputElement = document.getElementById(outputId);\n",
              "  // Cache steps on the outputElement to make it available for the next call\n",
              "  // to uploadFilesContinue from Python.\n",
              "  outputElement.steps = steps;\n",
              "\n",
              "  return _uploadFilesContinue(outputId);\n",
              "}\n",
              "\n",
              "// This is roughly an async generator (not supported in the browser yet),\n",
              "// where there are multiple asynchronous steps and the Python side is going\n",
              "// to poll for completion of each step.\n",
              "// This uses a Promise to block the python side on completion of each step,\n",
              "// then passes the result of the previous step as the input to the next step.\n",
              "function _uploadFilesContinue(outputId) {\n",
              "  const outputElement = document.getElementById(outputId);\n",
              "  const steps = outputElement.steps;\n",
              "\n",
              "  const next = steps.next(outputElement.lastPromiseValue);\n",
              "  return Promise.resolve(next.value.promise).then((value) => {\n",
              "    // Cache the last promise value to make it available to the next\n",
              "    // step of the generator.\n",
              "    outputElement.lastPromiseValue = value;\n",
              "    return next.value.response;\n",
              "  });\n",
              "}\n",
              "\n",
              "/**\n",
              " * Generator function which is called between each async step of the upload\n",
              " * process.\n",
              " * @param {string} inputId Element ID of the input file picker element.\n",
              " * @param {string} outputId Element ID of the output display.\n",
              " * @return {!Iterable<!Object>} Iterable of next steps.\n",
              " */\n",
              "function* uploadFilesStep(inputId, outputId) {\n",
              "  const inputElement = document.getElementById(inputId);\n",
              "  inputElement.disabled = false;\n",
              "\n",
              "  const outputElement = document.getElementById(outputId);\n",
              "  outputElement.innerHTML = '';\n",
              "\n",
              "  const pickedPromise = new Promise((resolve) => {\n",
              "    inputElement.addEventListener('change', (e) => {\n",
              "      resolve(e.target.files);\n",
              "    });\n",
              "  });\n",
              "\n",
              "  const cancel = document.createElement('button');\n",
              "  inputElement.parentElement.appendChild(cancel);\n",
              "  cancel.textContent = 'Cancel upload';\n",
              "  const cancelPromise = new Promise((resolve) => {\n",
              "    cancel.onclick = () => {\n",
              "      resolve(null);\n",
              "    };\n",
              "  });\n",
              "\n",
              "  // Wait for the user to pick the files.\n",
              "  const files = yield {\n",
              "    promise: Promise.race([pickedPromise, cancelPromise]),\n",
              "    response: {\n",
              "      action: 'starting',\n",
              "    }\n",
              "  };\n",
              "\n",
              "  cancel.remove();\n",
              "\n",
              "  // Disable the input element since further picks are not allowed.\n",
              "  inputElement.disabled = true;\n",
              "\n",
              "  if (!files) {\n",
              "    return {\n",
              "      response: {\n",
              "        action: 'complete',\n",
              "      }\n",
              "    };\n",
              "  }\n",
              "\n",
              "  for (const file of files) {\n",
              "    const li = document.createElement('li');\n",
              "    li.append(span(file.name, {fontWeight: 'bold'}));\n",
              "    li.append(span(\n",
              "        `(${file.type || 'n/a'}) - ${file.size} bytes, ` +\n",
              "        `last modified: ${\n",
              "            file.lastModifiedDate ? file.lastModifiedDate.toLocaleDateString() :\n",
              "                                    'n/a'} - `));\n",
              "    const percent = span('0% done');\n",
              "    li.appendChild(percent);\n",
              "\n",
              "    outputElement.appendChild(li);\n",
              "\n",
              "    const fileDataPromise = new Promise((resolve) => {\n",
              "      const reader = new FileReader();\n",
              "      reader.onload = (e) => {\n",
              "        resolve(e.target.result);\n",
              "      };\n",
              "      reader.readAsArrayBuffer(file);\n",
              "    });\n",
              "    // Wait for the data to be ready.\n",
              "    let fileData = yield {\n",
              "      promise: fileDataPromise,\n",
              "      response: {\n",
              "        action: 'continue',\n",
              "      }\n",
              "    };\n",
              "\n",
              "    // Use a chunked sending to avoid message size limits. See b/62115660.\n",
              "    let position = 0;\n",
              "    do {\n",
              "      const length = Math.min(fileData.byteLength - position, MAX_PAYLOAD_SIZE);\n",
              "      const chunk = new Uint8Array(fileData, position, length);\n",
              "      position += length;\n",
              "\n",
              "      const base64 = btoa(String.fromCharCode.apply(null, chunk));\n",
              "      yield {\n",
              "        response: {\n",
              "          action: 'append',\n",
              "          file: file.name,\n",
              "          data: base64,\n",
              "        },\n",
              "      };\n",
              "\n",
              "      let percentDone = fileData.byteLength === 0 ?\n",
              "          100 :\n",
              "          Math.round((position / fileData.byteLength) * 100);\n",
              "      percent.textContent = `${percentDone}% done`;\n",
              "\n",
              "    } while (position < fileData.byteLength);\n",
              "  }\n",
              "\n",
              "  // All done.\n",
              "  yield {\n",
              "    response: {\n",
              "      action: 'complete',\n",
              "    }\n",
              "  };\n",
              "}\n",
              "\n",
              "scope.google = scope.google || {};\n",
              "scope.google.colab = scope.google.colab || {};\n",
              "scope.google.colab._files = {\n",
              "  _uploadFiles,\n",
              "  _uploadFilesContinue,\n",
              "};\n",
              "})(self);\n",
              "</script> "
            ]
          },
          "metadata": {}
        },
        {
          "output_type": "stream",
          "name": "stdout",
          "text": [
            "Saving 0_mM_NaCl.csv to 0_mM_NaCl.csv\n",
            "Saving 10_mM_NaCl.csv to 10_mM_NaCl.csv\n",
            "Saving 25_mM_NaCl.csv to 25_mM_NaCl.csv\n",
            "Saving 50_mM_NaCl.csv to 50_mM_NaCl.csv\n"
          ]
        }
      ]
    },
    {
      "cell_type": "markdown",
      "source": [
        "# **This is the final script:**\n",
        "##Prerequisites:\n",
        "* The CSV data files need to have one x-column and one y-column, named \n",
        "\"x\" and \"y\", respectively.\n",
        "\n",
        "##The script does the following to all CSV files in the current directory\n",
        "* The x-values are first divided by 60 (i.e. converted from seconds to minutes)\n",
        "* The x-values are then changed to 2-minutes intervals (e.g. 0, 2, 4, 6 min etc.)\n",
        "* Interpolation is then performed on the y-data to calculate the corresponding y-value at each 2-min \"x\" inverval \n",
        "> * The interpolation \"kind\" is *linear* by default but can be changed to i.e. *cubic* (under # Define interpolation function)\n",
        "\n",
        "\n",
        "\n",
        "\n",
        "\n",
        "\n",
        "\n",
        "Note that:\n",
        "The script first checks whether the minimum value of x is greater than 0, and if so, adds a new data point to the beginning of the x and y arrays with x=0 and y=the first value of y in the original data. This ensures that the interpolation function can handle x values below the minimum value in the original data\n",
        "\n"
      ],
      "metadata": {
        "id": "z1oN7A6XH46i"
      }
    },
    {
      "cell_type": "code",
      "source": [
        "import os\n",
        "import pandas as pd\n",
        "from scipy.interpolate import interp1d\n",
        "\n",
        "# Create output folder if it doesn't exist\n",
        "if not os.path.exists('output'):\n",
        "    os.makedirs('output')\n",
        "\n",
        "# Get list of CSV files in current directory\n",
        "files = [f for f in os.listdir('.') if os.path.isfile(f) and f.endswith('.csv')]\n",
        "\n",
        "# Iterate over CSV files\n",
        "for filename in files:\n",
        "    # Load CSV file into a pandas DataFrame\n",
        "    data = pd.read_csv(filename)\n",
        "\n",
        "    # Divide x values by 60\n",
        "    data['x'] /= 60\n",
        "\n",
        "    # Define x and y arrays from DataFrame\n",
        "    x = data['x'].values\n",
        "    y = data['y'].values\n",
        "\n",
        "    # Check if x values include 0, and if not, add a data point to the beginning of the arrays\n",
        "    if min(x) > 0:\n",
        "        x = list(x)\n",
        "        y = list(y)\n",
        "        x.insert(0, 0)\n",
        "        y.insert(0, y[0])\n",
        "\n",
        "    # Define interpolation function\n",
        "    interp_func = interp1d(x, y, kind='linear')\n",
        "\n",
        "    # Create new x values to interpolate at (every 2 units)\n",
        "    new_x = list(range(int(min(x)), int(max(x))+1, 2))\n",
        "\n",
        "    # Interpolate y values at new x values\n",
        "    new_y = interp_func(new_x)\n",
        "\n",
        "    # Create a new DataFrame with interpolated values\n",
        "    output = pd.DataFrame({'x': new_x, 'y': new_y})\n",
        "\n",
        "    # Save output to CSV file with original filename + \"_output\"\n",
        "    output_filename = os.path.join('output', filename.replace('.csv', '_output.csv'))\n",
        "    output.to_csv(output_filename, index=False)\n"
      ],
      "metadata": {
        "id": "o1zrwl2hH2Uu"
      },
      "execution_count": null,
      "outputs": []
    },
    {
      "cell_type": "markdown",
      "source": [
        "# **This script can be used to plot the data**\n",
        "* Either plot the original data or... \n",
        "* ...plot the output (interpolated) data\n",
        "* Change the name of the csv in the script to the file that you want to plot\n",
        "\n",
        "* **Note: to plot the output data, change directory to output:** \n",
        "\n",
        "\n",
        "```python\n",
        "        %cd output #use the \"change dir\" cells below)\n",
        "```\n",
        "\n",
        " \n",
        "\n",
        "\n",
        "\n"
      ],
      "metadata": {
        "id": "IohPARKMql-q"
      }
    },
    {
      "cell_type": "code",
      "source": [
        "# Change dir to output\n",
        "%cd /content/output/"
      ],
      "metadata": {
        "colab": {
          "base_uri": "https://localhost:8080/"
        },
        "id": "S7am5jBWPjuS",
        "outputId": "c5a096d4-ee5b-4320-bfd4-b5399fa8a311"
      },
      "execution_count": null,
      "outputs": [
        {
          "output_type": "stream",
          "name": "stdout",
          "text": [
            "/content/output\n"
          ]
        }
      ]
    },
    {
      "cell_type": "code",
      "source": [
        "# Change dir to content\n",
        "%cd /content/"
      ],
      "metadata": {
        "colab": {
          "base_uri": "https://localhost:8080/"
        },
        "id": "1qiMICbqQDK7",
        "outputId": "83fc18d2-63bc-4a11-cbcc-106bbb39884a"
      },
      "execution_count": null,
      "outputs": [
        {
          "output_type": "stream",
          "name": "stdout",
          "text": [
            "/content\n"
          ]
        }
      ]
    },
    {
      "cell_type": "code",
      "source": [
        "import matplotlib.pyplot as plt\n",
        "import os\n",
        "# Read the csv file\n",
        "df = pd.read_csv(\"25_mM_NaCl_output.csv\")\n",
        "\n",
        "# Plot the data in a scatterplot\n",
        "plt.scatter(df['x'], df['y'])\n",
        "plt.xlabel('time (min)')\n",
        "plt.ylabel('EI')\n",
        "plt.title('Linear')\n",
        "\n",
        "# Show the plot\n",
        "plt.show()"
      ],
      "metadata": {
        "colab": {
          "base_uri": "https://localhost:8080/",
          "height": 295
        },
        "id": "UKAYY6lWmtXB",
        "outputId": "d5c09766-32c7-447b-c548-13b09bc6ec1b"
      },
      "execution_count": null,
      "outputs": [
        {
          "output_type": "display_data",
          "data": {
            "text/plain": [
              "<Figure size 432x288 with 1 Axes>"
            ],
            "image/png": "[encoded data removed]"
          },
          "metadata": {
            "needs_background": "light"
          }
        }
      ]
    },
    {
      "cell_type": "code",
      "source": [
        "# This block can plot all files in one plot \n",
        "import pandas as pd\n",
        "import matplotlib.pyplot as plt\n",
        "import glob\n",
        "import os\n",
        "\n",
        "# Find all csv files in current directory\n",
        "csv_files = glob.glob(\"*.csv\")\n",
        "\n",
        "# Create empty list to hold all dataframes and dataset names\n",
        "df_list = []\n",
        "name_list = []\n",
        "\n",
        "\n",
        "\n",
        "# Read each csv file into a dataframe and append to list\n",
        "for csv_file in csv_files:\n",
        "    df = pd.read_csv(csv_file)\n",
        "    df_list.append(df)\n",
        "    name_list.append(os.path.splitext(csv_file)[0])\n",
        "\n",
        "# Specify the desired order of datasets (first dataset is \"0\")\n",
        "desired_order = [2, 0, 1, 3]\n",
        "\n",
        "# Rearrange the dataframes and names according to the desired order\n",
        "df_list = [df_list[i] for i in desired_order]\n",
        "name_list = [name_list[i] for i in desired_order]\n",
        "\n",
        "# Create a list of colors for each dataframe\n",
        "colors = ['blue', 'red', 'green', 'orange', 'purple', 'brown']\n",
        "\n",
        "# Create scatterplot for each dataframe using a different color and name\n",
        "for i, df in enumerate(df_list):\n",
        "    plt.scatter(df['x'], df['y'], color=colors[i], label=name_list[i])\n",
        "\n",
        "# Add axis labels and title\n",
        "plt.xlabel('X')\n",
        "plt.ylabel('Y')\n",
        "plt.title('Scatterplot of X vs. Y')\n",
        "\n",
        "dpi = 600\n",
        "\n",
        "# Add legend\n",
        "plt.legend()\n",
        "\n",
        "# Show the plot\n",
        "plt.show()\n",
        "\n",
        "# Show the order of how the dataset are read\n",
        "print(\"The order of the datasets is: \", name_list)\n",
        "print(\"The 'order ID' of each dataset is: \", desired_order)\n",
        "\n",
        "\n",
        "\n"
      ],
      "metadata": {
        "colab": {
          "base_uri": "https://localhost:8080/",
          "height": 330
        },
        "id": "s1ws7AKwXZbx",
        "outputId": "b1bf5412-9aa2-4eda-a38c-c3697244d6fd"
      },
      "execution_count": null,
      "outputs": [
        {
          "output_type": "display_data",
          "data": {
            "text/plain": [
              "<Figure size 432x288 with 1 Axes>"
            ],
            "image/png": "[encoded data removed]"
          },
          "metadata": {
            "needs_background": "light"
          }
        },
        {
          "output_type": "stream",
          "name": "stdout",
          "text": [
            "The order of the datasets is:  ['0_mM_NaCl', '25_mM_NaCl', '10_mM_NaCl', '50_mM_NaCl']\n",
            "The 'order ID' of each dataset is:  [2, 0, 1, 3]\n"
          ]
        }
      ]
    },
    {
      "cell_type": "markdown",
      "source": [
        "# **This script combines all csv files in the current directory into a single \"combined\" csv file**\n",
        "\n",
        "\n",
        "*   The script automatically goes to the output folder (cd output)... \n",
        "* ...and runs the script there.\n",
        "* and then cd's black to the content folder\n",
        "\n"
      ],
      "metadata": {
        "id": "9HCUb2wQMj-2"
      }
    },
    {
      "cell_type": "code",
      "source": [
        "# Go to the output folder containing the output data\n",
        "%cd /content/output/\n",
        "\n",
        "import os\n",
        "import pandas as pd\n",
        "\n",
        "# Get all CSV files in current directory\n",
        "csv_files = [f for f in os.listdir('.') if f.endswith('.csv')]\n",
        "\n",
        "# Initialize empty DataFrame\n",
        "df = pd.DataFrame()\n",
        "\n",
        "# Loop through CSV files and append to DataFrame\n",
        "for file in csv_files:\n",
        "    # Read CSV file into DataFrame\n",
        "    file_df = pd.read_csv(file, header=None, names=['x_'+file[:-4], 'y_'+file[:-4]])\n",
        "    # Append to main DataFrame\n",
        "    df = pd.concat([df, file_df], axis=1)\n",
        "\n",
        "# Write combined DataFrame to CSV file\n",
        "df.to_csv('combined.csv', index=False)\n",
        "\n",
        "%cd /content/\n"
      ],
      "metadata": {
        "colab": {
          "base_uri": "https://localhost:8080/"
        },
        "id": "bwejht8EKwWF",
        "outputId": "47943200-2921-4fc3-c6d0-fe63c2b07e21"
      },
      "execution_count": null,
      "outputs": [
        {
          "output_type": "stream",
          "name": "stdout",
          "text": [
            "/content/output\n",
            "/content\n"
          ]
        }
      ]
    },
    {
      "cell_type": "markdown",
      "source": [
        "# *These are a number of earlier versions of the script*\n",
        "Next, perform the linear interpolation. Can be changed to cubic interpolation, by changing \"kind\" to cubic.\n",
        "\n"
      ],
      "metadata": {
        "id": "Tl7LNAoLqQBl"
      }
    },
    {
      "cell_type": "code",
      "execution_count": null,
      "metadata": {
        "id": "mumk1MDxyiSN",
        "colab": {
          "base_uri": "https://localhost:8080/",
          "height": 397
        },
        "outputId": "0a87d8c8-2766-4bbe-be6e-c1dd53bc3d10"
      },
      "outputs": [
        {
          "output_type": "error",
          "ename": "FileNotFoundError",
          "evalue": "ignored",
          "traceback": [
            "\u001b[0;31m---------------------------------------------------------------------------\u001b[0m",
            "\u001b[0;31mFileNotFoundError\u001b[0m                         Traceback (most recent call last)",
            "\u001b[0;32m<ipython-input-1-89a03e5f4354>\u001b[0m in \u001b[0;36m<module>\u001b[0;34m\u001b[0m\n\u001b[1;32m      3\u001b[0m \u001b[0;34m\u001b[0m\u001b[0m\n\u001b[1;32m      4\u001b[0m \u001b[0;31m# Load CSV file into a pandas DataFrame\u001b[0m\u001b[0;34m\u001b[0m\u001b[0;34m\u001b[0m\u001b[0;34m\u001b[0m\u001b[0m\n\u001b[0;32m----> 5\u001b[0;31m \u001b[0mdata\u001b[0m \u001b[0;34m=\u001b[0m \u001b[0mpd\u001b[0m\u001b[0;34m.\u001b[0m\u001b[0mread_csv\u001b[0m\u001b[0;34m(\u001b[0m\u001b[0;34m'data.csv'\u001b[0m\u001b[0;34m)\u001b[0m\u001b[0;34m\u001b[0m\u001b[0;34m\u001b[0m\u001b[0m\n\u001b[0m\u001b[1;32m      6\u001b[0m \u001b[0;34m\u001b[0m\u001b[0m\n\u001b[1;32m      7\u001b[0m \u001b[0;31m# Define x and y arrays from DataFrame\u001b[0m\u001b[0;34m\u001b[0m\u001b[0;34m\u001b[0m\u001b[0;34m\u001b[0m\u001b[0m\n",
            "\u001b[0;32m/usr/local/lib/python3.8/dist-packages/pandas/util/_decorators.py\u001b[0m in \u001b[0;36mwrapper\u001b[0;34m(*args, **kwargs)\u001b[0m\n\u001b[1;32m    309\u001b[0m                     \u001b[0mstacklevel\u001b[0m\u001b[0;34m=\u001b[0m\u001b[0mstacklevel\u001b[0m\u001b[0;34m,\u001b[0m\u001b[0;34m\u001b[0m\u001b[0;34m\u001b[0m\u001b[0m\n\u001b[1;32m    310\u001b[0m                 )\n\u001b[0;32m--> 311\u001b[0;31m             \u001b[0;32mreturn\u001b[0m \u001b[0mfunc\u001b[0m\u001b[0;34m(\u001b[0m\u001b[0;34m*\u001b[0m\u001b[0margs\u001b[0m\u001b[0;34m,\u001b[0m \u001b[0;34m**\u001b[0m\u001b[0mkwargs\u001b[0m\u001b[0;34m)\u001b[0m\u001b[0;34m\u001b[0m\u001b[0;34m\u001b[0m\u001b[0m\n\u001b[0m\u001b[1;32m    312\u001b[0m \u001b[0;34m\u001b[0m\u001b[0m\n\u001b[1;32m    313\u001b[0m         \u001b[0;32mreturn\u001b[0m \u001b[0mwrapper\u001b[0m\u001b[0;34m\u001b[0m\u001b[0;34m\u001b[0m\u001b[0m\n",
            "\u001b[0;32m/usr/local/lib/python3.8/dist-packages/pandas/io/parsers/readers.py\u001b[0m in \u001b[0;36mread_csv\u001b[0;34m(filepath_or_buffer, sep, delimiter, header, names, index_col, usecols, squeeze, prefix, mangle_dupe_cols, dtype, engine, converters, true_values, false_values, skipinitialspace, skiprows, skipfooter, nrows, na_values, keep_default_na, na_filter, verbose, skip_blank_lines, parse_dates, infer_datetime_format, keep_date_col, date_parser, dayfirst, cache_dates, iterator, chunksize, compression, thousands, decimal, lineterminator, quotechar, quoting, doublequote, escapechar, comment, encoding, encoding_errors, dialect, error_bad_lines, warn_bad_lines, on_bad_lines, delim_whitespace, low_memory, memory_map, float_precision, storage_options)\u001b[0m\n\u001b[1;32m    584\u001b[0m     \u001b[0mkwds\u001b[0m\u001b[0;34m.\u001b[0m\u001b[0mupdate\u001b[0m\u001b[0;34m(\u001b[0m\u001b[0mkwds_defaults\u001b[0m\u001b[0;34m)\u001b[0m\u001b[0;34m\u001b[0m\u001b[0;34m\u001b[0m\u001b[0m\n\u001b[1;32m    585\u001b[0m \u001b[0;34m\u001b[0m\u001b[0m\n\u001b[0;32m--> 586\u001b[0;31m     \u001b[0;32mreturn\u001b[0m \u001b[0m_read\u001b[0m\u001b[0;34m(\u001b[0m\u001b[0mfilepath_or_buffer\u001b[0m\u001b[0;34m,\u001b[0m \u001b[0mkwds\u001b[0m\u001b[0;34m)\u001b[0m\u001b[0;34m\u001b[0m\u001b[0;34m\u001b[0m\u001b[0m\n\u001b[0m\u001b[1;32m    587\u001b[0m \u001b[0;34m\u001b[0m\u001b[0m\n\u001b[1;32m    588\u001b[0m \u001b[0;34m\u001b[0m\u001b[0m\n",
            "\u001b[0;32m/usr/local/lib/python3.8/dist-packages/pandas/io/parsers/readers.py\u001b[0m in \u001b[0;36m_read\u001b[0;34m(filepath_or_buffer, kwds)\u001b[0m\n\u001b[1;32m    480\u001b[0m \u001b[0;34m\u001b[0m\u001b[0m\n\u001b[1;32m    481\u001b[0m     \u001b[0;31m# Create the parser.\u001b[0m\u001b[0;34m\u001b[0m\u001b[0;34m\u001b[0m\u001b[0;34m\u001b[0m\u001b[0m\n\u001b[0;32m--> 482\u001b[0;31m     \u001b[0mparser\u001b[0m \u001b[0;34m=\u001b[0m \u001b[0mTextFileReader\u001b[0m\u001b[0;34m(\u001b[0m\u001b[0mfilepath_or_buffer\u001b[0m\u001b[0;34m,\u001b[0m \u001b[0;34m**\u001b[0m\u001b[0mkwds\u001b[0m\u001b[0;34m)\u001b[0m\u001b[0;34m\u001b[0m\u001b[0;34m\u001b[0m\u001b[0m\n\u001b[0m\u001b[1;32m    483\u001b[0m \u001b[0;34m\u001b[0m\u001b[0m\n\u001b[1;32m    484\u001b[0m     \u001b[0;32mif\u001b[0m \u001b[0mchunksize\u001b[0m \u001b[0;32mor\u001b[0m \u001b[0miterator\u001b[0m\u001b[0;34m:\u001b[0m\u001b[0;34m\u001b[0m\u001b[0;34m\u001b[0m\u001b[0m\n",
            "\u001b[0;32m/usr/local/lib/python3.8/dist-packages/pandas/io/parsers/readers.py\u001b[0m in \u001b[0;36m__init__\u001b[0;34m(self, f, engine, **kwds)\u001b[0m\n\u001b[1;32m    809\u001b[0m             \u001b[0mself\u001b[0m\u001b[0;34m.\u001b[0m\u001b[0moptions\u001b[0m\u001b[0;34m[\u001b[0m\u001b[0;34m\"has_index_names\"\u001b[0m\u001b[0;34m]\u001b[0m \u001b[0;34m=\u001b[0m \u001b[0mkwds\u001b[0m\u001b[0;34m[\u001b[0m\u001b[0;34m\"has_index_names\"\u001b[0m\u001b[0;34m]\u001b[0m\u001b[0;34m\u001b[0m\u001b[0;34m\u001b[0m\u001b[0m\n\u001b[1;32m    810\u001b[0m \u001b[0;34m\u001b[0m\u001b[0m\n\u001b[0;32m--> 811\u001b[0;31m         \u001b[0mself\u001b[0m\u001b[0;34m.\u001b[0m\u001b[0m_engine\u001b[0m \u001b[0;34m=\u001b[0m \u001b[0mself\u001b[0m\u001b[0;34m.\u001b[0m\u001b[0m_make_engine\u001b[0m\u001b[0;34m(\u001b[0m\u001b[0mself\u001b[0m\u001b[0;34m.\u001b[0m\u001b[0mengine\u001b[0m\u001b[0;34m)\u001b[0m\u001b[0;34m\u001b[0m\u001b[0;34m\u001b[0m\u001b[0m\n\u001b[0m\u001b[1;32m    812\u001b[0m \u001b[0;34m\u001b[0m\u001b[0m\n\u001b[1;32m    813\u001b[0m     \u001b[0;32mdef\u001b[0m \u001b[0mclose\u001b[0m\u001b[0;34m(\u001b[0m\u001b[0mself\u001b[0m\u001b[0;34m)\u001b[0m\u001b[0;34m:\u001b[0m\u001b[0;34m\u001b[0m\u001b[0;34m\u001b[0m\u001b[0m\n",
            "\u001b[0;32m/usr/local/lib/python3.8/dist-packages/pandas/io/parsers/readers.py\u001b[0m in \u001b[0;36m_make_engine\u001b[0;34m(self, engine)\u001b[0m\n\u001b[1;32m   1038\u001b[0m             )\n\u001b[1;32m   1039\u001b[0m         \u001b[0;31m# error: Too many arguments for \"ParserBase\"\u001b[0m\u001b[0;34m\u001b[0m\u001b[0;34m\u001b[0m\u001b[0;34m\u001b[0m\u001b[0m\n\u001b[0;32m-> 1040\u001b[0;31m         \u001b[0;32mreturn\u001b[0m \u001b[0mmapping\u001b[0m\u001b[0;34m[\u001b[0m\u001b[0mengine\u001b[0m\u001b[0;34m]\u001b[0m\u001b[0;34m(\u001b[0m\u001b[0mself\u001b[0m\u001b[0;34m.\u001b[0m\u001b[0mf\u001b[0m\u001b[0;34m,\u001b[0m \u001b[0;34m**\u001b[0m\u001b[0mself\u001b[0m\u001b[0;34m.\u001b[0m\u001b[0moptions\u001b[0m\u001b[0;34m)\u001b[0m  \u001b[0;31m# type: ignore[call-arg]\u001b[0m\u001b[0;34m\u001b[0m\u001b[0;34m\u001b[0m\u001b[0m\n\u001b[0m\u001b[1;32m   1041\u001b[0m \u001b[0;34m\u001b[0m\u001b[0m\n\u001b[1;32m   1042\u001b[0m     \u001b[0;32mdef\u001b[0m \u001b[0m_failover_to_python\u001b[0m\u001b[0;34m(\u001b[0m\u001b[0mself\u001b[0m\u001b[0;34m)\u001b[0m\u001b[0;34m:\u001b[0m\u001b[0;34m\u001b[0m\u001b[0;34m\u001b[0m\u001b[0m\n",
            "\u001b[0;32m/usr/local/lib/python3.8/dist-packages/pandas/io/parsers/c_parser_wrapper.py\u001b[0m in \u001b[0;36m__init__\u001b[0;34m(self, src, **kwds)\u001b[0m\n\u001b[1;32m     49\u001b[0m \u001b[0;34m\u001b[0m\u001b[0m\n\u001b[1;32m     50\u001b[0m         \u001b[0;31m# open handles\u001b[0m\u001b[0;34m\u001b[0m\u001b[0;34m\u001b[0m\u001b[0;34m\u001b[0m\u001b[0m\n\u001b[0;32m---> 51\u001b[0;31m         \u001b[0mself\u001b[0m\u001b[0;34m.\u001b[0m\u001b[0m_open_handles\u001b[0m\u001b[0;34m(\u001b[0m\u001b[0msrc\u001b[0m\u001b[0;34m,\u001b[0m \u001b[0mkwds\u001b[0m\u001b[0;34m)\u001b[0m\u001b[0;34m\u001b[0m\u001b[0;34m\u001b[0m\u001b[0m\n\u001b[0m\u001b[1;32m     52\u001b[0m         \u001b[0;32massert\u001b[0m \u001b[0mself\u001b[0m\u001b[0;34m.\u001b[0m\u001b[0mhandles\u001b[0m \u001b[0;32mis\u001b[0m \u001b[0;32mnot\u001b[0m \u001b[0;32mNone\u001b[0m\u001b[0;34m\u001b[0m\u001b[0;34m\u001b[0m\u001b[0m\n\u001b[1;32m     53\u001b[0m \u001b[0;34m\u001b[0m\u001b[0m\n",
            "\u001b[0;32m/usr/local/lib/python3.8/dist-packages/pandas/io/parsers/base_parser.py\u001b[0m in \u001b[0;36m_open_handles\u001b[0;34m(self, src, kwds)\u001b[0m\n\u001b[1;32m    220\u001b[0m         \u001b[0mLet\u001b[0m \u001b[0mthe\u001b[0m \u001b[0mreaders\u001b[0m \u001b[0mopen\u001b[0m \u001b[0mIOHandles\u001b[0m \u001b[0mafter\u001b[0m \u001b[0mthey\u001b[0m \u001b[0mare\u001b[0m \u001b[0mdone\u001b[0m \u001b[0;32mwith\u001b[0m \u001b[0mtheir\u001b[0m \u001b[0mpotential\u001b[0m \u001b[0mraises\u001b[0m\u001b[0;34m.\u001b[0m\u001b[0;34m\u001b[0m\u001b[0;34m\u001b[0m\u001b[0m\n\u001b[1;32m    221\u001b[0m         \"\"\"\n\u001b[0;32m--> 222\u001b[0;31m         self.handles = get_handle(\n\u001b[0m\u001b[1;32m    223\u001b[0m             \u001b[0msrc\u001b[0m\u001b[0;34m,\u001b[0m\u001b[0;34m\u001b[0m\u001b[0;34m\u001b[0m\u001b[0m\n\u001b[1;32m    224\u001b[0m             \u001b[0;34m\"r\"\u001b[0m\u001b[0;34m,\u001b[0m\u001b[0;34m\u001b[0m\u001b[0;34m\u001b[0m\u001b[0m\n",
            "\u001b[0;32m/usr/local/lib/python3.8/dist-packages/pandas/io/common.py\u001b[0m in \u001b[0;36mget_handle\u001b[0;34m(path_or_buf, mode, encoding, compression, memory_map, is_text, errors, storage_options)\u001b[0m\n\u001b[1;32m    700\u001b[0m         \u001b[0;32mif\u001b[0m \u001b[0mioargs\u001b[0m\u001b[0;34m.\u001b[0m\u001b[0mencoding\u001b[0m \u001b[0;32mand\u001b[0m \u001b[0;34m\"b\"\u001b[0m \u001b[0;32mnot\u001b[0m \u001b[0;32min\u001b[0m \u001b[0mioargs\u001b[0m\u001b[0;34m.\u001b[0m\u001b[0mmode\u001b[0m\u001b[0;34m:\u001b[0m\u001b[0;34m\u001b[0m\u001b[0;34m\u001b[0m\u001b[0m\n\u001b[1;32m    701\u001b[0m             \u001b[0;31m# Encoding\u001b[0m\u001b[0;34m\u001b[0m\u001b[0;34m\u001b[0m\u001b[0;34m\u001b[0m\u001b[0m\n\u001b[0;32m--> 702\u001b[0;31m             handle = open(\n\u001b[0m\u001b[1;32m    703\u001b[0m                 \u001b[0mhandle\u001b[0m\u001b[0;34m,\u001b[0m\u001b[0;34m\u001b[0m\u001b[0;34m\u001b[0m\u001b[0m\n\u001b[1;32m    704\u001b[0m                 \u001b[0mioargs\u001b[0m\u001b[0;34m.\u001b[0m\u001b[0mmode\u001b[0m\u001b[0;34m,\u001b[0m\u001b[0;34m\u001b[0m\u001b[0;34m\u001b[0m\u001b[0m\n",
            "\u001b[0;31mFileNotFoundError\u001b[0m: [Errno 2] No such file or directory: 'data.csv'"
          ]
        }
      ],
      "source": [
        "import pandas as pd\n",
        "from scipy.interpolate import interp1d\n",
        "\n",
        "# Load CSV file into a pandas DataFrame\n",
        "data = pd.read_csv('data.csv')\n",
        "\n",
        "# Define x and y arrays from DataFrame\n",
        "x = data['x'].values\n",
        "y = data['y'].values\n",
        "\n",
        "# Define interpolation function\n",
        "interp_func = interp1d(x, y, kind='linear')\n",
        "\n",
        "# Create new x values to interpolate at (every 2 units)\n",
        "new_x = list(range(int(min(x)), int(max(x))+1, 2))\n",
        "\n",
        "# Interpolate y values at new x values\n",
        "new_y = interp_func(new_x)\n",
        "\n",
        "# Create a new DataFrame with interpolated values\n",
        "output = pd.DataFrame({'x': new_x, 'y': new_y})\n",
        "\n",
        "# Save output to CSV file\n",
        "output.to_csv('output.csv', index=False)\n"
      ]
    },
    {
      "cell_type": "markdown",
      "source": [
        "## This is an earlier version of the script\n",
        "Below is a version that also transforms the data in sec to min"
      ],
      "metadata": {
        "id": "DNhhjJocDbJU"
      }
    },
    {
      "cell_type": "code",
      "source": [
        "import pandas as pd\n",
        "from scipy.interpolate import interp1d\n",
        "\n",
        "# Load CSV file into a pandas DataFrame\n",
        "data = pd.read_csv('data.csv')\n",
        "\n",
        "# Divide x values by 60\n",
        "data['x'] = data['x'] / 60\n",
        "\n",
        "# Define x and y arrays from DataFrame\n",
        "x = data['x'].values\n",
        "y = data['y'].values\n",
        "\n",
        "# Define interpolation function\n",
        "interp_func = interp1d(x, y, kind='linear')\n",
        "\n",
        "# Create new x values to interpolate at (every 2 units)\n",
        "new_x = list(range(int(min(x)), int(max(x))+1, 2))\n",
        "\n",
        "# Interpolate y values at new x values\n",
        "new_y = interp_func(new_x)\n",
        "\n",
        "# Create a new DataFrame with interpolated values\n",
        "output = pd.DataFrame({'x': new_x, 'y': new_y})\n",
        "\n",
        "# Save output to CSV file\n",
        "output.to_csv('output.csv', index=False)\n"
      ],
      "metadata": {
        "id": "O7GyiHGiCm0C"
      },
      "execution_count": null,
      "outputs": []
    },
    {
      "cell_type": "markdown",
      "source": [
        "## This is an earlier version of the script\n",
        "\n",
        "\n",
        "Below is version that runs on all csv files"
      ],
      "metadata": {
        "id": "fZAdPEGfD4kx"
      }
    },
    {
      "cell_type": "code",
      "source": [
        "import os\n",
        "import pandas as pd\n",
        "from scipy.interpolate import interp1d\n",
        "\n",
        "# Get list of CSV files in current directory\n",
        "files = [f for f in os.listdir('.') if os.path.isfile(f) and f.endswith('.csv')]\n",
        "\n",
        "# Iterate over CSV files\n",
        "for filename in files:\n",
        "    # Load CSV file into a pandas DataFrame\n",
        "    data = pd.read_csv(filename)\n",
        "\n",
        "    # Divide x values by 60\n",
        "    data['x'] /= 60\n",
        "\n",
        "    # Define x and y arrays from DataFrame\n",
        "    x = data['x'].values\n",
        "    y = data['y'].values\n",
        "\n",
        "    # Define interpolation function\n",
        "    interp_func = interp1d(x, y, kind='linear')\n",
        "\n",
        "    # Create new x values to interpolate at (every 2 units)\n",
        "    new_x = list(range(int(min(x)), int(max(x))+1, 2))\n",
        "\n",
        "    # Interpolate y values at new x values\n",
        "    new_y = interp_func(new_x)\n",
        "\n",
        "    # Create a new DataFrame with interpolated values\n",
        "    output = pd.DataFrame({'x': new_x, 'y': new_y})\n",
        "\n",
        "    # Save output to CSV file with original filename + \"_output\"\n",
        "    output_filename = filename.replace('.csv', '_output.csv')\n",
        "    output.to_csv(output_filename, index=False)\n"
      ],
      "metadata": {
        "id": "dKISWC1KD8pd"
      },
      "execution_count": null,
      "outputs": []
    },
    {
      "cell_type": "markdown",
      "source": [
        "## This is an earlier version of the script\n",
        "\n",
        "This updated script first checks whether the minimum value of x is greater than 0, and if so, adds a new data point to the beginning of the x and y arrays with x=0 and y=the first value of y in the original data. This ensures that the interpolation function can handle x values below the minimum value in the original data"
      ],
      "metadata": {
        "id": "i6nn7zdgG5mB"
      }
    },
    {
      "cell_type": "code",
      "source": [
        "import os\n",
        "import pandas as pd\n",
        "from scipy.interpolate import interp1d\n",
        "\n",
        "# Get list of CSV files in current directory\n",
        "files = [f for f in os.listdir('.') if os.path.isfile(f) and f.endswith('.csv')]\n",
        "\n",
        "# Iterate over CSV files\n",
        "for filename in files:\n",
        "    # Load CSV file into a pandas DataFrame\n",
        "    data = pd.read_csv(filename)\n",
        "\n",
        "    # Divide x values by 60\n",
        "    data['x'] /= 60\n",
        "\n",
        "    # Define x and y arrays from DataFrame\n",
        "    x = data['x'].values\n",
        "    y = data['y'].values\n",
        "\n",
        "    # Check if x values include 0, and if not, add a data point to the beginning of the arrays\n",
        "    if min(x) > 0:\n",
        "        x = list(x)\n",
        "        y = list(y)\n",
        "        x.insert(0, 0)\n",
        "        y.insert(0, y[0])\n",
        "\n",
        "    # Define interpolation function\n",
        "    interp_func = interp1d(x, y, kind='linear')\n",
        "\n",
        "    # Create new x values to interpolate at (every 2 units)\n",
        "    new_x = list(range(int(min(x)), int(max(x))+1, 2))\n",
        "\n",
        "    # Interpolate y values at new x values\n",
        "    new_y = interp_func(new_x)\n",
        "\n",
        "    # Create a new DataFrame with interpolated values\n",
        "    output = pd.DataFrame({'x': new_x, 'y': new_y})\n",
        "\n",
        "    # Save output to CSV file with original filename + \"_output\"\n",
        "    output_filename = filename.replace('.csv', '_output.csv')\n",
        "    output.to_csv(output_filename, index=False)\n"
      ],
      "metadata": {
        "id": "OqtKQ8KBG3FC"
      },
      "execution_count": null,
      "outputs": []
    },
    {
      "cell_type": "markdown",
      "source": [],
      "metadata": {
        "id": "owJQ5B79I4aP"
      }
    }
  ]
}