{
  "cells": [
    {
      "cell_type": "markdown",
      "metadata": {
        "id": "view-in-github",
        "colab_type": "text"
      },
      "source": [
        "<a href=\"https://colab.research.google.com/github/tvs-dk/data-analysis/blob/main/linear_int.ipynb\" target=\"_parent\"><img src=\"https://colab.research.google.com/assets/colab-badge.svg\" alt=\"Open In Colab\"/></a>"
      ]
    },
    {
      "cell_type": "markdown",
      "metadata": {
        "id": "m2KwoLAays0U"
      },
      "source": [
        "This block of code can be used to make an example file. Can be ignored if you already have a datafile."
      ]
    },
    {
      "cell_type": "code",
      "execution_count": null,
      "metadata": {
        "id": "leqqY7isys0V"
      },
      "outputs": [],
      "source": [
        "import random\n",
        "\n",
        "# Generate random time and data\n",
        "time = [i for i in range(0, 601, 10)]\n",
        "data = [random.randint(0, 100) for i in range(len(time))]\n",
        "\n",
        "# Write to file\n",
        "with open('example_input.csv', 'w') as f:\n",
        "    for t, d in zip(time, data):\n",
        "        f.write(f'{t},{d}\\n')\n"
      ]
    },
    {
      "cell_type": "markdown",
      "source": [
        "Use the block of code below to upload a file"
      ],
      "metadata": {
        "id": "kh94iOyL0EvA"
      }
    },
    {
      "cell_type": "code",
      "source": [
        "from google.colab import files\n",
        "uploaded = files.upload()\n"
      ],
      "metadata": {
        "id": "8fIknV0X0DW0"
      },
      "execution_count": null,
      "outputs": []
    },
    {
      "cell_type": "markdown",
      "metadata": {
        "id": "r10fBVnDys0W"
      },
      "source": [
        "The data file needs to be in csv format without headers.\n",
        "The block of code below performs the linear interpolation.\n"
      ]
    },
    {
      "cell_type": "code",
      "execution_count": null,
      "metadata": {
        "id": "b0yT8IPSys0W"
      },
      "outputs": [],
      "source": [
        "import pandas as pd\n",
        "\n",
        "# Read in data file\n",
        "data = pd.read_csv('input_file.csv', header=None, names=['time', 'data'], dtype={'time': float})\n",
        "\n",
        "# Convert time to minutes\n",
        "data['time'] /= 60\n",
        "\n",
        "# Perform linear interpolation at 2-minute intervals\n",
        "new_time = pd.Series(range(0, int(data['time'].max()) + 2, 2))\n",
        "new_data = pd.Series(pd.Series(new_time).interpolate(method='linear', \n",
        "                                                     limit_direction='both'))\n",
        "\n",
        "# Combine new time and data into a new DataFrame\n",
        "new_data = pd.DataFrame({'time': new_time, 'data': pd.Series(new_time).map(data.set_index('time')['data']).interpolate(method='linear', limit_direction='both')})\n",
        "\n",
        "# Output new data file\n",
        "new_data.to_csv('output_file_new_correct.csv', header=None, index=False)\n"
      ]
    }
  ],
  "metadata": {
    "kernelspec": {
      "display_name": "Python 3",
      "language": "python",
      "name": "python3"
    },
    "language_info": {
      "codemirror_mode": {
        "name": "ipython",
        "version": 3
      },
      "file_extension": ".py",
      "mimetype": "text/x-python",
      "name": "python",
      "nbconvert_exporter": "python",
      "pygments_lexer": "ipython3",
      "version": "3.9.2"
    },
    "orig_nbformat": 4,
    "vscode": {
      "interpreter": {
        "hash": "916dbcbb3f70747c44a77c7bcd40155683ae19c65e1c03b4aa3499c5328201f1"
      }
    },
    "colab": {
      "provenance": [],
      "include_colab_link": true
    }
  },
  "nbformat": 4,
  "nbformat_minor": 0
}