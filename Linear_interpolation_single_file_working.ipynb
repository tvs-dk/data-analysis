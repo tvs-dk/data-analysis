{
  "nbformat": 4,
  "nbformat_minor": 0,
  "metadata": {
    "colab": {
      "provenance": [],
      "authorship_tag": "ABX9TyO8fhjCgTxleH8DNbtJ8nLF",
      "include_colab_link": true
    },
    "kernelspec": {
      "name": "python3",
      "display_name": "Python 3"
    },
    "language_info": {
      "name": "python"
    }
  },
  "cells": [
    {
      "cell_type": "markdown",
      "metadata": {
        "id": "view-in-github",
        "colab_type": "text"
      },
      "source": [
        "<a href=\"https://colab.research.google.com/github/tvs-dk/data-analysis/blob/main/Linear_interpolation_single_file_working.ipynb\" target=\"_parent\"><img src=\"https://colab.research.google.com/assets/colab-badge.svg\" alt=\"Open In Colab\"/></a>"
      ]
    },
    {
      "cell_type": "markdown",
      "source": [
        "First, plot the original datafile"
      ],
      "metadata": {
        "id": "snf9ny0bqJDk"
      }
    },
    {
      "cell_type": "code",
      "source": [
        "import matplotlib.pyplot as plt\n",
        "import os\n",
        "# Read the csv file\n",
        "#cd output\n",
        "#os.chdir('/output/')\n",
        "#os.walk(\"output\")\n",
        "df = pd.read_csv(\"data.csv\")\n",
        "\n",
        "# Plot the data in a scatterplot\n",
        "plt.scatter(df['x'], df['y'])\n",
        "plt.xlabel('time (min)')\n",
        "plt.ylabel('EI')\n",
        "plt.title('original')\n",
        "\n",
        "# Show the plot\n",
        "plt.show()"
      ],
      "metadata": {
        "colab": {
          "base_uri": "https://localhost:8080/",
          "height": 295
        },
        "id": "vXl3UOL7nAji",
        "outputId": "b47ffe50-75ba-4df9-d7a4-bcb49e7ea0b1"
      },
      "execution_count": 14,
      "outputs": [
        {
          "output_type": "display_data",
          "data": {
            "text/plain": [
              "<Figure size 432x288 with 1 Axes>"
            ],
            "image/png": "[encoded data removed]"
          },
          "metadata": {
            "needs_background": "light"
          }
        }
      ]
    },
    {
      "cell_type": "markdown",
      "source": [
        "Next, perform the linear interpolation. Can be changed to cubic interpolation, by changing \"kind\" to cubic.\n",
        "\n"
      ],
      "metadata": {
        "id": "Tl7LNAoLqQBl"
      }
    },
    {
      "cell_type": "code",
      "execution_count": 16,
      "metadata": {
        "id": "mumk1MDxyiSN"
      },
      "outputs": [],
      "source": [
        "import pandas as pd\n",
        "from scipy.interpolate import interp1d\n",
        "\n",
        "# Load CSV file into a pandas DataFrame\n",
        "data = pd.read_csv('data.csv')\n",
        "\n",
        "# Define x and y arrays from DataFrame\n",
        "x = data['x'].values\n",
        "y = data['y'].values\n",
        "\n",
        "# Define interpolation function\n",
        "interp_func = interp1d(x, y, kind='linear')\n",
        "\n",
        "# Create new x values to interpolate at (every 2 units)\n",
        "new_x = list(range(int(min(x)), int(max(x))+1, 2))\n",
        "\n",
        "# Interpolate y values at new x values\n",
        "new_y = interp_func(new_x)\n",
        "\n",
        "# Create a new DataFrame with interpolated values\n",
        "output = pd.DataFrame({'x': new_x, 'y': new_y})\n",
        "\n",
        "# Save output to CSV file\n",
        "output.to_csv('output.csv', index=False)\n"
      ]
    },
    {
      "cell_type": "markdown",
      "source": [
        "Plot the interpolated data."
      ],
      "metadata": {
        "id": "IohPARKMql-q"
      }
    },
    {
      "cell_type": "code",
      "source": [
        "import matplotlib.pyplot as plt\n",
        "import os\n",
        "# Read the csv file\n",
        "#cd output\n",
        "#os.chdir('/output/')\n",
        "#os.walk(\"output\")\n",
        "df = pd.read_csv(\"output.csv\")\n",
        "\n",
        "# Plot the data in a scatterplot\n",
        "plt.scatter(df['x'], df['y'])\n",
        "plt.xlabel('time (min)')\n",
        "plt.ylabel('EI')\n",
        "plt.title('Linear')\n",
        "\n",
        "# Show the plot\n",
        "plt.show()"
      ],
      "metadata": {
        "colab": {
          "base_uri": "https://localhost:8080/",
          "height": 295
        },
        "id": "UKAYY6lWmtXB",
        "outputId": "bf7143d8-6510-403d-f778-c895c87356f0"
      },
      "execution_count": 15,
      "outputs": [
        {
          "output_type": "display_data",
          "data": {
            "text/plain": [
              "<Figure size 432x288 with 1 Axes>"
            ],
            "image/png": "[encoded data removed]"
          },
          "metadata": {
            "needs_background": "light"
          }
        }
      ]
    }
  ]
}